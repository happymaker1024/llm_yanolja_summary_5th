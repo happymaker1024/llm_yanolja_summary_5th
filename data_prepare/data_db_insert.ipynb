{
 "cells": [
  {
   "cell_type": "markdown",
   "id": "3f7b27b1",
   "metadata": {},
   "source": [
    "# review로딩 -> df 만들기"
   ]
  },
  {
   "cell_type": "code",
   "execution_count": null,
   "id": "25221056",
   "metadata": {},
   "outputs": [],
   "source": [
    "from datetime import datetime\n",
    "import json\n",
    "import pandas as pd\n",
    "\n",
    "# file로딩 -> df 만드는 함수 : 1개의 파일을 전처리하는 함수\n",
    "def load_data(data_path):\n",
    "    # 파일로딩\n",
    "    with open(f\"{data_path}\", \"r\", encoding=\"utf-8\") as file:\n",
    "        json_data = json.load(file)\n",
    "\n",
    "    # 로딩 데이터 -> df로 만들기\n",
    "    df = pd.DataFrame(json_data)\n",
    "    # print(df.head())\n",
    "    # 데이터 전처리\n",
    "    df['date'] = df['date'].str.replace(\".\", \"-\")\n",
    "    # date 형태(2025.05.06)가 아닌경우, 오늘날짜로 바꾸기\n",
    "    # 문자열을 날짜로 변환, 오류가 나는 경우 NaT로 처리\n",
    "    df['date'] = pd.to_datetime(df['date'], errors='coerce')\n",
    "    # 오늘 날짜\n",
    "    today = pd.Timestamp(datetime.today().date())\n",
    "    # NaT인 경우 오늘 날짜로 대체\n",
    "    df['date'] = df['date'].fillna(today)\n",
    "\n",
    "    # df 리턴하기\n",
    "    return df"
   ]
  },
  {
   "cell_type": "code",
   "execution_count": 11,
   "id": "67026c24",
   "metadata": {},
   "outputs": [
    {
     "data": {
      "text/plain": [
       "datetime.date(2025, 6, 5)"
      ]
     },
     "execution_count": 11,
     "metadata": {},
     "output_type": "execute_result"
    }
   ],
   "source": [
    "datetime.today().date()"
   ]
  },
  {
   "cell_type": "code",
   "execution_count": 17,
   "id": "9f47c213",
   "metadata": {},
   "outputs": [
    {
     "name": "stdout",
     "output_type": "stream",
     "text": [
      "420\n"
     ]
    },
    {
     "name": "stderr",
     "output_type": "stream",
     "text": [
      "C:\\Users\\Public\\Documents\\ESTsoft\\CreatorTemp\\ipykernel_20428\\2935223973.py:18: UserWarning: Could not infer format, so each element will be parsed individually, falling back to `dateutil`. To ensure parsing is consistent and as-expected, please specify a format.\n",
      "  df['date'] = pd.to_datetime(df['date'], errors='coerce')\n"
     ]
    },
    {
     "data": {
      "text/html": [
       "<div>\n",
       "<style scoped>\n",
       "    .dataframe tbody tr th:only-of-type {\n",
       "        vertical-align: middle;\n",
       "    }\n",
       "\n",
       "    .dataframe tbody tr th {\n",
       "        vertical-align: top;\n",
       "    }\n",
       "\n",
       "    .dataframe thead th {\n",
       "        text-align: right;\n",
       "    }\n",
       "</style>\n",
       "<table border=\"1\" class=\"dataframe\">\n",
       "  <thead>\n",
       "    <tr style=\"text-align: right;\">\n",
       "      <th></th>\n",
       "      <th>review</th>\n",
       "      <th>stars</th>\n",
       "      <th>date</th>\n",
       "    </tr>\n",
       "  </thead>\n",
       "  <tbody>\n",
       "    <tr>\n",
       "      <th>0</th>\n",
       "      <td>바닷가 바로앞이라 너무좋아요.\\n객실도 깨끗하고, 샤워기 수압좋고 따뜻한물 잘 나오...</td>\n",
       "      <td>5</td>\n",
       "      <td>2025-06-05</td>\n",
       "    </tr>\n",
       "    <tr>\n",
       "      <th>1</th>\n",
       "      <td>오션뷰라 진짜 좋았어요!! ㅎㅎㅎ\\n제 생일이라 남자친구하고 처음 오션뷰 예약해서 ...</td>\n",
       "      <td>5</td>\n",
       "      <td>2025-06-05</td>\n",
       "    </tr>\n",
       "    <tr>\n",
       "      <th>2</th>\n",
       "      <td>황금연휴에 방문했는데 오션뷰가 정말 예쁘더라고요👍\\n저는 2층에 머물렀는데, 창밖으...</td>\n",
       "      <td>5</td>\n",
       "      <td>2025-05-06</td>\n",
       "    </tr>\n",
       "    <tr>\n",
       "      <th>3</th>\n",
       "      <td>위치좋고 직원들 전부 친절하고 재방문의사100%입니다</td>\n",
       "      <td>5</td>\n",
       "      <td>2025-06-05</td>\n",
       "    </tr>\n",
       "    <tr>\n",
       "      <th>4</th>\n",
       "      <td>좋았습니다 수고하세요</td>\n",
       "      <td>5</td>\n",
       "      <td>2025-06-05</td>\n",
       "    </tr>\n",
       "    <tr>\n",
       "      <th>5</th>\n",
       "      <td>괜찬아요\\n바다바로앞이라좋아요</td>\n",
       "      <td>5</td>\n",
       "      <td>2025-06-05</td>\n",
       "    </tr>\n",
       "    <tr>\n",
       "      <th>6</th>\n",
       "      <td>우선 바람이 불어서 예정보다 30분 숙소 입실을 허락해줌\\n그런데 오션뷰 2층 20...</td>\n",
       "      <td>2</td>\n",
       "      <td>2025-06-05</td>\n",
       "    </tr>\n",
       "    <tr>\n",
       "      <th>7</th>\n",
       "      <td>강원도를 좋아하는 여행자입니다.\\n강릉 스카이베이,속초 카시아,롯데 다이용해봤지만\\...</td>\n",
       "      <td>5</td>\n",
       "      <td>2025-05-27</td>\n",
       "    </tr>\n",
       "    <tr>\n",
       "      <th>8</th>\n",
       "      <td>강문해변 바로 앞이라 위치도 좋고 버스 정류장도 바로 근처라 이동이 너무 편리해서 ...</td>\n",
       "      <td>5</td>\n",
       "      <td>2025-05-24</td>\n",
       "    </tr>\n",
       "    <tr>\n",
       "      <th>9</th>\n",
       "      <td>내부가 깔끔했어요 \\n전망도 해안뷰가 이뻤어요\\n담에 또 오고싶네요</td>\n",
       "      <td>5</td>\n",
       "      <td>2025-05-24</td>\n",
       "    </tr>\n",
       "  </tbody>\n",
       "</table>\n",
       "</div>"
      ],
      "text/plain": [
       "                                              review  stars       date\n",
       "0  바닷가 바로앞이라 너무좋아요.\\n객실도 깨끗하고, 샤워기 수압좋고 따뜻한물 잘 나오...      5 2025-06-05\n",
       "1  오션뷰라 진짜 좋았어요!! ㅎㅎㅎ\\n제 생일이라 남자친구하고 처음 오션뷰 예약해서 ...      5 2025-06-05\n",
       "2  황금연휴에 방문했는데 오션뷰가 정말 예쁘더라고요👍\\n저는 2층에 머물렀는데, 창밖으...      5 2025-05-06\n",
       "3                      위치좋고 직원들 전부 친절하고 재방문의사100%입니다      5 2025-06-05\n",
       "4                                        좋았습니다 수고하세요      5 2025-06-05\n",
       "5                                   괜찬아요\\n바다바로앞이라좋아요      5 2025-06-05\n",
       "6  우선 바람이 불어서 예정보다 30분 숙소 입실을 허락해줌\\n그런데 오션뷰 2층 20...      2 2025-06-05\n",
       "7  강원도를 좋아하는 여행자입니다.\\n강릉 스카이베이,속초 카시아,롯데 다이용해봤지만\\...      5 2025-05-27\n",
       "8  강문해변 바로 앞이라 위치도 좋고 버스 정류장도 바로 근처라 이동이 너무 편리해서 ...      5 2025-05-24\n",
       "9              내부가 깔끔했어요 \\n전망도 해안뷰가 이뻤어요\\n담에 또 오고싶네요      5 2025-05-24"
      ]
     },
     "execution_count": 17,
     "metadata": {},
     "output_type": "execute_result"
    }
   ],
   "source": [
    "# 함수 호출부\n",
    "data_path = \"res/1.gangneung_mare.json\"\n",
    "df = load_data(data_path)\n",
    "print(len(df))\n",
    "df.head(10)"
   ]
  },
  {
   "cell_type": "markdown",
   "id": "c71f5106",
   "metadata": {},
   "source": [
    "# mysql DB 연결하기"
   ]
  },
  {
   "cell_type": "code",
   "execution_count": 29,
   "id": "56684e41",
   "metadata": {},
   "outputs": [],
   "source": [
    "\n",
    "from dotenv import load_dotenv\n",
    "import os\n",
    "import pandas as pd\n",
    "from sqlalchemy import create_engine\n",
    "\n",
    "# .env 파일을 찾아서 환경변수 로딩\n",
    "load_dotenv('.env', override=True)\n",
    "\n",
    "# 메모리에 로딩된 환경변수 값을 가져오기\n",
    "USER = os.environ.get(\"USER\")\n",
    "PASSWORD = os.environ.get(\"PASSWORD\")\n",
    "HOST = os.environ.get(\"HOST\")\n",
    "DB_NAME = os.environ.get(\"DB_NAME\")\n",
    "PORT = 3306\n",
    "\n",
    "# DB_URL = f\"mysql+pymysql://{id}:{pw}@{서버ip}:{port}/{db}\"\n",
    "DB_URL = f\"mysql+pymysql://{USER}:{PASSWORD}@{HOST}:{PORT}/{DB_NAME}\""
   ]
  },
  {
   "cell_type": "markdown",
   "id": "f530db36",
   "metadata": {},
   "source": [
    "# df -> mysql 테이블에 저장"
   ]
  },
  {
   "cell_type": "code",
   "execution_count": 30,
   "id": "0ecfa797",
   "metadata": {},
   "outputs": [],
   "source": [
    "def save_to_db(df, table_name):\n",
    "    try:\n",
    "        # sqlalchemy로 mysql엔진 생성\n",
    "        engine = create_engine(DB_URL)    \n",
    "\n",
    "        # df을 mysql 테이블에 저장\n",
    "        df.to_sql(\n",
    "            name = table_name,\n",
    "            con = engine,\n",
    "            if_exists = 'append',\n",
    "            index = False,\n",
    "            method=\"multi\"\n",
    "        )\n",
    "        print(f\"SQLAlchemy를 통해 {len(df)}개의 리뷰가 성공적으로 저장되었습니다.\")\n",
    "    except Exception as e:\n",
    "        print(f\"DB 저장시 {e}가 발생함\")\n",
    "    "
   ]
  },
  {
   "cell_type": "markdown",
   "id": "25e54133",
   "metadata": {},
   "source": [
    "# 숙소 정보 DB 저장하기"
   ]
  },
  {
   "cell_type": "code",
   "execution_count": 32,
   "id": "0037a80f",
   "metadata": {},
   "outputs": [
    {
     "name": "stdout",
     "output_type": "stream",
     "text": [
      "SQLAlchemy를 통해 4개의 리뷰가 성공적으로 저장되었습니다.\n"
     ]
    }
   ],
   "source": [
    "import pandas as pd\n",
    "df = pd.read_csv('res/accommodation_info.csv', encoding='utf-8')\n",
    "# df.head()\n",
    "table_name = 'accommodation_info'\n",
    "save_to_db(df, table_name)"
   ]
  },
  {
   "cell_type": "markdown",
   "id": "344e0188",
   "metadata": {},
   "source": [
    "# 리뷰데이터 저장하기"
   ]
  },
  {
   "cell_type": "code",
   "execution_count": 35,
   "id": "06ccb3f9",
   "metadata": {},
   "outputs": [
    {
     "name": "stdout",
     "output_type": "stream",
     "text": [
      "SQLAlchemy를 통해 420개의 리뷰가 성공적으로 저장되었습니다.\n"
     ]
    },
    {
     "name": "stderr",
     "output_type": "stream",
     "text": [
      "C:\\Users\\Public\\Documents\\ESTsoft\\CreatorTemp\\ipykernel_20428\\2935223973.py:18: UserWarning: Could not infer format, so each element will be parsed individually, falling back to `dateutil`. To ensure parsing is consistent and as-expected, please specify a format.\n",
      "  df['date'] = pd.to_datetime(df['date'], errors='coerce')\n"
     ]
    }
   ],
   "source": [
    "# 전처리\n",
    "data_path = \"res/1.gangneung_mare.json\"\n",
    "df = load_data(data_path)\n",
    "\n",
    "# df에 accommodation_id 추가하기\n",
    "# 강릉 마레는 accommodation_id = 1\n",
    "df['accommodation_id'] = 1\n",
    "# df.head()\n",
    "\n",
    "# DB 테이블에 저장하기\n",
    "table_name = \"accommodation_review\"\n",
    "save_to_db(df, table_name)"
   ]
  },
  {
   "cell_type": "markdown",
   "id": "469461b9",
   "metadata": {},
   "source": [
    "# 여러개의 파일을 일괄로 전처하기"
   ]
  },
  {
   "cell_type": "markdown",
   "id": "23c03cd5",
   "metadata": {},
   "source": [
    "- 함수 정의"
   ]
  },
  {
   "cell_type": "code",
   "execution_count": 38,
   "id": "ade7f48e",
   "metadata": {},
   "outputs": [],
   "source": [
    "from datetime import datetime\n",
    "import json\n",
    "import pandas as pd\n",
    "\n",
    "# file로딩 -> df 만드는 함수 : 1개의 파일을 전처리하는 함수\n",
    "def load_data_multi(acco_id, data_path):\n",
    "    # 파일로딩\n",
    "    with open(f\"{data_path}\", \"r\", encoding=\"utf-8\") as file:\n",
    "        json_data = json.load(file)\n",
    "\n",
    "    # 로딩 데이터 -> df로 만들기\n",
    "    df = pd.DataFrame(json_data)\n",
    "    # print(df.head())\n",
    "    # 데이터 전처리\n",
    "    df['date'] = df['date'].str.replace(\".\", \"-\")\n",
    "    # date 형태(2025.05.06)가 아닌경우, 오늘날짜로 바꾸기\n",
    "    # 문자열을 날짜로 변환, 오류가 나는 경우 NaT로 처리\n",
    "    df['date'] = pd.to_datetime(df['date'], errors='coerce')\n",
    "    # 오늘 날짜\n",
    "    today = pd.Timestamp(datetime.today().date())\n",
    "    # NaT인 경우 오늘 날짜로 대체\n",
    "    df['date'] = df['date'].fillna(today)\n",
    "\n",
    "    # df에 accommodation_id 추가하기\n",
    "    # 강릉 마레는 accommodation_id = 1\n",
    "    df['accommodation_id'] = acco_id\n",
    "    # df.head()\n",
    "\n",
    "    # df 리턴하기\n",
    "    return df"
   ]
  },
  {
   "cell_type": "markdown",
   "id": "7a39cc8c",
   "metadata": {},
   "source": [
    "- 일괄 실행"
   ]
  },
  {
   "cell_type": "code",
   "execution_count": 39,
   "id": "72cacda3",
   "metadata": {},
   "outputs": [
    {
     "name": "stdout",
     "output_type": "stream",
     "text": [
      "SQLAlchemy를 통해 420개의 리뷰가 성공적으로 저장되었습니다.\n",
      "SQLAlchemy를 통해 420개의 리뷰가 성공적으로 저장되었습니다.\n"
     ]
    },
    {
     "name": "stderr",
     "output_type": "stream",
     "text": [
      "C:\\Users\\Public\\Documents\\ESTsoft\\CreatorTemp\\ipykernel_20428\\1316262341.py:18: UserWarning: Could not infer format, so each element will be parsed individually, falling back to `dateutil`. To ensure parsing is consistent and as-expected, please specify a format.\n",
      "  df['date'] = pd.to_datetime(df['date'], errors='coerce')\n"
     ]
    }
   ],
   "source": [
    "# 전처리하고 저장해야하는 데이터 파일이 10\n",
    "MAPPING = {\n",
    "    # 1: './res/1.gangneung_mare.json',\n",
    "    2: './res/2.insadong_ninetree.json',\n",
    "    3: './res/3.kyongpo_the_hongc.json',\n",
    "    # 4: './res/4.hongcheon_vivaldi.json'\n",
    "}\n",
    "\n",
    "for acco_id, data_path in MAPPING.items():\n",
    "    # 전처리\n",
    "    # data_path = \"res/1.gangneung_mare.json\"\n",
    "    df = load_data_multi(acco_id, data_path)\n",
    "\n",
    "    # DB 테이블에 저장하기\n",
    "    table_name = \"accommodation_review\"\n",
    "    save_to_db(df, table_name)"
   ]
  },
  {
   "cell_type": "code",
   "execution_count": null,
   "id": "36015087",
   "metadata": {},
   "outputs": [],
   "source": []
  }
 ],
 "metadata": {
  "kernelspec": {
   "display_name": "llm_env",
   "language": "python",
   "name": "python3"
  },
  "language_info": {
   "codemirror_mode": {
    "name": "ipython",
    "version": 3
   },
   "file_extension": ".py",
   "mimetype": "text/x-python",
   "name": "python",
   "nbconvert_exporter": "python",
   "pygments_lexer": "ipython3",
   "version": "3.12.7"
  }
 },
 "nbformat": 4,
 "nbformat_minor": 5
}
